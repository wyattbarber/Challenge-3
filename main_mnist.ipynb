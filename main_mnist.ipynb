{
 "cells": [
  {
   "attachments": {},
   "cell_type": "markdown",
   "metadata": {},
   "source": [
    "CIS 678 Challenge 3\n",
    "===================\n",
    "\n",
    "This notebook uses a C++ backend using Eigen and OpenMP for linear algebra and parallelization. The python module neuralnet is created from this backend uing PyBind11.\n",
    "\n",
    "The C++ source defines a class NeuralNetwork, which implements the forward and backward propatgation algorithms.\n",
    "\n",
    "\n",
    "The following have been tested using pytest:\n",
    "- The model can be constructed without errors\n",
    "- A forward pass can be run without errors\n",
    "- A backward pass can be run without errors\n",
    "- The model can be trained to implement the behavior of an XOR gate"
   ]
  },
  {
   "cell_type": "code",
   "execution_count": 1,
   "metadata": {},
   "outputs": [],
   "source": [
    "# Import C++ percemtron implementation\n",
    "import neuralnet as nn\n",
    "# Import other libraries\n",
    "import matplotlib.pyplot as plt\n",
    "import numpy as np"
   ]
  },
  {
   "cell_type": "code",
   "execution_count": 2,
   "metadata": {},
   "outputs": [],
   "source": [
    "# Load training data\n",
    "TRAIN_IN = np.genfromtxt('data/mnist_train.csv', delimiter=',', skip_header=1)\n",
    "\n",
    "targets = np.genfromtxt('data/mnist_train_targets.csv', delimiter=',', skip_header=1)\n",
    "TRAIN_OUT = []\n",
    "for t in targets:\n",
    "    out = [0] * 10\n",
    "    out[int(t)] = 1\n",
    "    TRAIN_OUT.append(out)\n",
    "\n",
    "TEST_IN = np.genfromtxt('data/mnist_test.csv', delimiter=',', skip_header=1)\n",
    "\n",
    "# Define a function to format and save data for submission\n",
    "def save_result(data, filename):\n",
    "    if not ('.csv' in filename):\n",
    "            filename += '.csv'\n",
    "\n",
    "    # Format results in the format kaggle wants \n",
    "    results_out = [[\"\\\"Id\\\"\",\"\\\"Expected\\\"\"]]\n",
    "    for i in range(0, len(data)):\n",
    "        results_out.append([f\"\\\"{i+1}\\\"\", f\"\\\"{int(data[i])}\\\"\"])\n",
    "\n",
    "\n",
    "    np.savetxt(F\"results/{filename}\", results_out, delimiter=',', fmt=\"%s\")\n"
   ]
  },
  {
   "attachments": {},
   "cell_type": "markdown",
   "metadata": {},
   "source": [
    "Transform Data"
   ]
  },
  {
   "cell_type": "code",
   "execution_count": 3,
   "metadata": {},
   "outputs": [],
   "source": [
    "# for col in range(DATA.shape[1]):\n",
    "#     DATA[:,col] /= np.max(DATA[:,col])\n"
   ]
  },
  {
   "attachments": {},
   "cell_type": "markdown",
   "metadata": {},
   "source": [
    "Basic Perceptron Based Prediction\n",
    "---------------------------------\n",
    "Format the data into slices of 10 days, where the first 9 are used for training and the 10th is used to test the output. Perform backpropagation over this data, then run a forward pass on the final slice of 9 days for each stock to make a final prediction. "
   ]
  },
  {
   "attachments": {},
   "cell_type": "markdown",
   "metadata": {},
   "source": [
    "Construct and train the mode.\n",
    "For now, just guessing at model parmeters"
   ]
  },
  {
   "cell_type": "code",
   "execution_count": 22,
   "metadata": {},
   "outputs": [],
   "source": [
    "dims = [TRAIN_IN.shape[0]] * 1\n",
    "dims.extend([100] * 1)\n",
    "dims.extend([25] * 1)\n",
    "funcs = [nn.ActivationFunctions.ReLU] * 3\n",
    "\n",
    "model = nn.NeuralNetwork([TRAIN_IN.shape[0], *dims,  10],    [*funcs, nn.ActivationFunctions.Sigmoid])\n",
    "errors = model.train(\n",
    "    [TRAIN_IN[:,i] for i in range(TRAIN_IN.shape[1])], \n",
    "    TRAIN_OUT, \n",
    "    10/TRAIN_IN.shape[1], 5\n",
    ")"
   ]
  },
  {
   "attachments": {},
   "cell_type": "markdown",
   "metadata": {},
   "source": [
    "Display a plot of the error as backpropagation progresses, to verify that the model is converging"
   ]
  },
  {
   "cell_type": "code",
   "execution_count": 23,
   "metadata": {},
   "outputs": [
    {
     "data": {
      "text/plain": [
       "<matplotlib.collections.PathCollection at 0x1c8245c49d0>"
      ]
     },
     "execution_count": 23,
     "metadata": {},
     "output_type": "execute_result"
    },
    {
     "data": {
      "image/png": "[encoded data removed]",
      "text/plain": [
       "<Figure size 640x480 with 1 Axes>"
      ]
     },
     "metadata": {},
     "output_type": "display_data"
    }
   ],
   "source": [
    "plt.scatter(range(len(errors)), errors)"
   ]
  },
  {
   "attachments": {},
   "cell_type": "markdown",
   "metadata": {},
   "source": [
    "Now, generate the final results"
   ]
  },
  {
   "cell_type": "code",
   "execution_count": 24,
   "metadata": {},
   "outputs": [],
   "source": [
    "results = []\n",
    "for dig in [TEST_IN[:,i] for i in range(TEST_IN.shape[1])]:\n",
    "    out = model.forwardPass(dig)\n",
    "    results.append(np.argmax(out))\n",
    "\n",
    "save_result(results, \"basic_perceptron\")"
   ]
  }
 ],
 "metadata": {
  "kernelspec": {
   "display_name": "Python 3",
   "language": "python",
   "name": "python3"
  },
  "language_info": {
   "codemirror_mode": {
    "name": "ipython",
    "version": 3
   },
   "file_extension": ".py",
   "mimetype": "text/x-python",
   "name": "python",
   "nbconvert_exporter": "python",
   "pygments_lexer": "ipython3",
   "version": "3.11.1"
  },
  "orig_nbformat": 4
 },
 "nbformat": 4,
 "nbformat_minor": 2
}
