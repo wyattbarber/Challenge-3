{
 "cells": [
  {
   "attachments": {},
   "cell_type": "markdown",
   "metadata": {},
   "source": [
    "CIS 678 Challenge 3\n",
    "===================\n",
    "### MNIST Classification, Wyatt Barber\n",
    "\n",
    "I worked with Abby on this challenge, we mostly did our own programming, and exchanged ideas for model architecture, training, and preprocessing. She was able to get her R implementation to work well while I was struggling with some bugs in my C++ implementation, so I used her work as a guide to check if my implementation was working right. \n",
    "\n",
    "This notebook uses a C++ backend using Eigen and OpenMP for linear algebra and parallelization. The python module neuralnet is created from this backend uing PyBind11.\n",
    "\n",
    "The C++ source defines a class Network, which implements the forward and backward propatgation algorithms.\n",
    "\n",
    "The network class assembles a list of Layer objects, each one having a derived type for its specific activation function. Network handled feeding data forwards and backwards through each layer. The forward pass and backwards pass is specific to each layer. All layer types are initialized with a uniform distribution, scaled by the square root of 2 over the size of the input to that layer (che initialization). I added this initialization after seeing that Abby had success with it, and my models were not converging. I found that other initialization methods (normal distribution with various means and deviations, uniform without scaling) resulted in models that do not converge. I didn't expect the initialization to have such a pronounced impact on the results. "
   ]
  },
  {
   "cell_type": "code",
   "execution_count": null,
   "metadata": {},
   "outputs": [],
   "source": [
    "# Import C++ perceptron implementation\n",
    "import neuralnet as nn\n",
    "# Import other libraries\n",
    "import matplotlib.pyplot as plt\n",
    "import numpy as np\n",
    "np.random.seed(123)"
   ]
  },
  {
   "cell_type": "code",
   "execution_count": 2,
   "metadata": {},
   "outputs": [],
   "source": [
    "# Load training data\n",
    "TRAIN_IN = np.genfromtxt('data/mnist_train.csv', delimiter=',', skip_header=1)\n",
    "\n",
    "TRAIN_OUT = np.genfromtxt('data/mnist_train_targets.csv', delimiter=',', skip_header=1, dtype=int)\n",
    "\n",
    "TEST_IN = np.genfromtxt('data/mnist_test.csv', delimiter=',', skip_header=1)\n",
    "\n",
    "# Define a function to format and save data for submission\n",
    "def save_result(data, filename):\n",
    "    if not ('.csv' in filename):\n",
    "            filename += '.csv'\n",
    "\n",
    "    # Format results in the format kaggle wants \n",
    "    results_out = [[\"\\\"Id\\\"\",\"\\\"Expected\\\"\"]]\n",
    "    for i in range(0, len(data)):\n",
    "        results_out.append([f\"\\\"{i+1}\\\"\", f\"\\\"{int(data[i])}\\\"\"])\n",
    "\n",
    "\n",
    "    np.savetxt(F\"results/{filename}\", results_out, delimiter=',', fmt=\"%s\")\n"
   ]
  },
  {
   "attachments": {},
   "cell_type": "markdown",
   "metadata": {},
   "source": [
    "Start with simple scaling to a 0 to 1 scale for preprocessing. I've seen that networks trained on the raw data don't converge well."
   ]
  },
  {
   "cell_type": "code",
   "execution_count": 3,
   "metadata": {},
   "outputs": [],
   "source": [
    "for i in range(TRAIN_IN.shape[1]):\n",
    "    TRAIN_IN[:,i] /= 255\n",
    "for i in range(TEST_IN.shape[1]):\n",
    "    TEST_IN[:,i] /= 255"
   ]
  },
  {
   "attachments": {},
   "cell_type": "markdown",
   "metadata": {},
   "source": [
    "Starting Model\n",
    "--------------\n",
    "Train a multistate classifier with a guess at the layer count and sizes. Use ReLU for hidden layers and sigmoid for output. The number and size of hidden layers are based on what Abby found worked well for her, I'm using the same parameters her to make sure any issues are with my implementation, not my model parameters."
   ]
  },
  {
   "cell_type": "code",
   "execution_count": 26,
   "metadata": {},
   "outputs": [],
   "source": [
    "dims = [200, 60, 10]\n",
    "funcs = [nn.ActivationFunctions.ReLU] * len(dims)\n",
    "\n",
    "model = nn.Network([TRAIN_IN.shape[0], *dims,  10],    [*funcs, nn.ActivationFunctions.SoftMax])\n",
    "errors = model.train(\n",
    "    [TRAIN_IN[:,i] for i in range(TRAIN_IN.shape[1])], \n",
    "    TRAIN_OUT, \n",
    "    0.01, 10\n",
    ")"
   ]
  },
  {
   "attachments": {},
   "cell_type": "markdown",
   "metadata": {},
   "source": [
    "Display a plot of the error as backpropagation progresses, to verify that the model is converging"
   ]
  },
  {
   "cell_type": "code",
   "execution_count": 27,
   "metadata": {},
   "outputs": [
    {
     "data": {
      "image/png": "[encoded data removed]",
      "text/plain": [
       "<Figure size 640x480 with 1 Axes>"
      ]
     },
     "metadata": {},
     "output_type": "display_data"
    }
   ],
   "source": [
    "plt.scatter(range(len(errors)), errors)\n",
    "results = []\n",
    "for i in range(TEST_IN.shape[1]):\n",
    "    y = model.forward(TEST_IN[:,i])\n",
    "    results.append(np.argmax(y))\n",
    "\n",
    "save_result(results, f\"softmax_{'_'.join([str(d) for d in dims])}\")"
   ]
  },
  {
   "attachments": {},
   "cell_type": "markdown",
   "metadata": {},
   "source": [
    "The model does converge, and reports above 90% accuracy on kaggle. Since the basic implementation works, now I'll move on to cross validation."
   ]
  },
  {
   "attachments": {},
   "cell_type": "markdown",
   "metadata": {},
   "source": [
    "Cross Validation of Layer Count and Size\n",
    "----------------------------------------\n",
    "The test_layers takes a list of lists, with each element being the size of one layer in the network, and another list of lists specifying activation functions. Each list must be the same length, the ith item in the layer size list is paired with the ith item in the activation function to construct the ith model to test.\n",
    "\n",
    "It also takes input and target data, rate, and epochs parameters like the train function. The final two parameters are the percentage of data to holdout for testing, and the number of times to redo the test on new randomly shuffled train/test data.\n",
    "\n",
    "OpenMP is used to paralellize testing of each model in the list."
   ]
  },
  {
   "cell_type": "code",
   "execution_count": 6,
   "metadata": {},
   "outputs": [],
   "source": [
    "# Try some cross validation of different network depths\n",
    "dims = [\n",
    "    [50],\n",
    "    [70],\n",
    "    [70, 20],\n",
    "    [30, 30],\n",
    "    [300, 50, 20],\n",
    "    [500, 200, 50],\n",
    "    [700, 500, 300, 30]\n",
    "]\n",
    "# Generate activation function lists and output dimension\n",
    "funcs = []\n",
    "for i in range(len(dims)):\n",
    "    f = [nn.ActivationFunctions.ReLU] * (len(dims[i]))\n",
    "    f.append(nn.ActivationFunctions.SoftMax)\n",
    "    funcs.append(f)\n",
    "    dims[i].append(10)\n",
    "    dims[i] = [TRAIN_IN.shape[0], *dims[i]]\n",
    "# Test models\n",
    "test_res = nn.test_layers(dims, funcs,\n",
    "                        TRAIN_IN, TRAIN_OUT, \n",
    "                        0.05, 3, # 5% test density, 3 tests per model\n",
    "                        0.01, 10 # 0.01 learning rate over 10 epochs\n",
    ")\n",
    "# test_res = []\n",
    "# for i in range(len(dims)):\n",
    "#     test_res.append(nn.test(dims[i], funcs[i], TRAIN_IN, TRAIN_OUT, 0.05, 3, 0.01, 10))\n"
   ]
  },
  {
   "cell_type": "code",
   "execution_count": 7,
   "metadata": {},
   "outputs": [
    {
     "data": {
      "text/plain": [
       "([<matplotlib.axis.XTick at 0x1715403c450>,\n",
       "  <matplotlib.axis.XTick at 0x171544f7a10>,\n",
       "  <matplotlib.axis.XTick at 0x170b88367d0>,\n",
       "  <matplotlib.axis.XTick at 0x170da957710>,\n",
       "  <matplotlib.axis.XTick at 0x170da8edbd0>,\n",
       "  <matplotlib.axis.XTick at 0x170da8efd90>,\n",
       "  <matplotlib.axis.XTick at 0x170da994f50>],\n",
       " [Text(0, 0, '[784,50,10]'),\n",
       "  Text(1, 0, '[784,70,10]'),\n",
       "  Text(2, 0, '[784,70,20,10]'),\n",
       "  Text(3, 0, '[784,30,30,10]'),\n",
       "  Text(4, 0, '[784,300,50,20,10]'),\n",
       "  Text(5, 0, '[784,500,200,50,10]'),\n",
       "  Text(6, 0, '[784,700,500,300,30,10]')])"
      ]
     },
     "execution_count": 7,
     "metadata": {},
     "output_type": "execute_result"
    },
    {
     "data": {
      "image/png": "[encoded data removed]",
      "text/plain": [
       "<Figure size 640x480 with 1 Axes>"
      ]
     },
     "metadata": {},
     "output_type": "display_data"
    }
   ],
   "source": [
    "# Format and display results\n",
    "x = []\n",
    "y = []\n",
    "for i in range(len(test_res)):\n",
    "    x.extend([i]*len(test_res[i]))\n",
    "    y.extend(test_res[i])\n",
    "dim_txt = []\n",
    "for d in dims:\n",
    "    dim_txt.append(f'[{\",\".join([str(di) for di in d])}]')\n",
    "plt.scatter(x,y)\n",
    "plt.xticks(ticks=range(len(test_res)), labels=dim_txt, rotation='vertical')"
   ]
  },
  {
   "attachments": {},
   "cell_type": "markdown",
   "metadata": {},
   "source": [
    "Unfortunately my function does not seem to work. It runs a lot faster than I think it should (faster than if would take to train and test one of the larger models in the list one time), the results don't show much of a trend in error vs model complexity, and the results don't track what kaggle reports.\n",
    "\n",
    "In kaggle submissions my best results were:\n",
    "- Hidden layers of size 200, 60, 10, rate 0.01, 10 epochs: 0.974\n",
    "- Hidden layers of size 700, 600, 400, 250, 100, 20, rate 0.01, 10 epochs: 0.978\n",
    "\n",
    "The larger model had only slight gain over the smaller, which could just have been variation in the random initialization. Without my cross validation function I'll use these two models as a start for further tuning. Now I'll try a couple different preprocessing methods, with the goal of surpressing noise in the training data to prevent overfitting. "
   ]
  },
  {
   "cell_type": "code",
   "execution_count": 8,
   "metadata": {},
   "outputs": [],
   "source": [
    "# Binary input, where any pixel that is non-zero is set to one. May help to mask slight variations in shading of a digit\n",
    "TRAIN_IN_BIN = np.copy(TRAIN_IN)\n",
    "TRAIN_IN_BIN[TRAIN_IN_BIN > 0] = 1.0\n",
    "# Average with neighboring pixels. Averaging over flattened array for simplicity, which should introduce vertical or horizontal 'smearing' with some wrapping at the edges\n",
    "TRAIN_IN_AVG = np.zeros(TRAIN_IN.shape)\n",
    "for i in range(TRAIN_IN.shape[1]):\n",
    "    for j in range(TRAIN_IN.shape[0]):\n",
    "        low = max(0, j-4)\n",
    "        high = min(j+4, TRAIN_IN.shape[0]-1)\n",
    "        TRAIN_IN_AVG[j,i] = np.mean(TRAIN_IN[low:high, i])\n",
    "\n",
    "# Define a function to simplify generating results \n",
    "def gen_results(model, data):\n",
    "    results = []\n",
    "    for i in range(data.shape[1]):\n",
    "        y = model.forward(data[:,i])\n",
    "        results.append(np.argmax(y))\n",
    "    return results\n"
   ]
  },
  {
   "attachments": {},
   "cell_type": "markdown",
   "metadata": {},
   "source": [
    "Train a model on each of the datasets. Use same number/size of hidden layers and activation functions for each. "
   ]
  },
  {
   "cell_type": "code",
   "execution_count": 9,
   "metadata": {},
   "outputs": [],
   "source": [
    "dims = [700]\n",
    "funcs = [nn.ActivationFunctions.ReLU] * len(dims)\n",
    "\n",
    "model_bin = nn.Network([TRAIN_IN.shape[0], *dims,  10],    [*funcs, nn.ActivationFunctions.SoftMax])\n",
    "model_bin.train([TRAIN_IN_BIN[:,i] for i in range(TRAIN_IN_BIN.shape[1])], TRAIN_OUT, 0.01, 3)\n",
    "save_result(gen_results(model_bin, TEST_IN), \"binary_data\")\n",
    "\n",
    "model_avg = nn.Network([TRAIN_IN.shape[0], *dims,  10],    [*funcs, nn.ActivationFunctions.SoftMax])\n",
    "model_avg.train([TRAIN_IN_AVG[:,i] for i in range(TRAIN_IN_AVG.shape[1])], TRAIN_OUT, 0.01, 3)\n",
    "save_result(gen_results(model_avg, TEST_IN), \"averaged_data\")"
   ]
  },
  {
   "attachments": {},
   "cell_type": "markdown",
   "metadata": {},
   "source": [
    "Both methods performed OK, but the binary image input was better than averaged with a score of 0.961 vs 0.89233. I'll try this with my best performing model from above to see how it does."
   ]
  },
  {
   "cell_type": "code",
   "execution_count": 21,
   "metadata": {},
   "outputs": [],
   "source": [
    "dims = [700, 600, 400, 250, 100, 20]\n",
    "    \n",
    "funcs = [nn.ActivationFunctions.ReLU] * len(dims)\n",
    "    \n",
    "funcs = [nn.ActivationFunctions.ReLU] * (len(dims)-1)\n",
    "\n",
    "model = nn.Network([*dims,  10],    [*funcs, nn.ActivationFunctions.SoftMax])\n",
    "\n",
    "model.train([TRAIN_IN_BIN[:,i] for i in range(TRAIN_IN_BIN.shape[1])], TRAIN_OUT, 0.01, 10)\n",
    "\n",
    "TEST_IN_BIN = np.copy(TEST_IN)\n",
    "TEST_IN_BIN[TEST_IN_BIN > 0] = 1.0\n",
    "save_result(gen_results(model, TEST_IN_BIN), \"binary_data_deep\")"
   ]
  },
  {
   "attachments": {},
   "cell_type": "markdown",
   "metadata": {},
   "source": [
    "That preprocessing doesn't perform very different from the basic scaled data, it actually seems to perform slightly worst. I'll try training a model further, using a lower learning rate for epochs beyond 10, to see if \"fine tuning\" a model gets better results. "
   ]
  },
  {
   "cell_type": "code",
   "execution_count": 23,
   "metadata": {},
   "outputs": [
    {
     "data": {
      "text/plain": [
       "<matplotlib.collections.PathCollection at 0x171544f39d0>"
      ]
     },
     "execution_count": 23,
     "metadata": {},
     "output_type": "execute_result"
    },
    {
     "data": {
      "image/png": "[encoded data removed]",
      "text/plain": [
       "<Figure size 640x480 with 1 Axes>"
      ]
     },
     "metadata": {},
     "output_type": "display_data"
    }
   ],
   "source": [
    "dims = [700, 600, 400, 250, 100, 20]\n",
    "    \n",
    "funcs = [nn.ActivationFunctions.ReLU] * len(dims)\n",
    "\n",
    "model = nn.Network([TRAIN_IN.shape[0], *dims,  10],    [*funcs, nn.ActivationFunctions.SoftMax])\n",
    "\n",
    "errors_1 = model.train([TRAIN_IN[:,i] for i in range(TRAIN_IN.shape[1])], TRAIN_OUT, 0.01, 10)\n",
    "errors_2 = model.train([TRAIN_IN[:,i] for i in range(TRAIN_IN.shape[1])], TRAIN_OUT, 0.0001, 10)\n",
    "errors_3 = model.train([TRAIN_IN[:,i] for i in range(TRAIN_IN.shape[1])], TRAIN_OUT, 0.000001, 10)\n",
    "\n",
    "save_result(gen_results(model, TEST_IN), f\"long_training_{'_'.join([str(d) for d in dims])}\")\n",
    "\n",
    "errors = [*errors_1, *errors_2, *errors_3]\n",
    "plt.scatter(range(len(errors)), errors)"
   ]
  },
  {
   "attachments": {},
   "cell_type": "markdown",
   "metadata": {},
   "source": [
    "That also didn't havea significant impact, based on the plot and kaggle results."
   ]
  },
  {
   "attachments": {},
   "cell_type": "markdown",
   "metadata": {},
   "source": [
    "Python Implementation\n",
    "---------------------\n",
    "While I was struggling with models not converging, I made this python version to see if I could get it to work better. It doesn't converge correctly, and I got the C++ version to perform better with che initialization so I didn't put more into this version."
   ]
  },
  {
   "cell_type": "code",
   "execution_count": 10,
   "metadata": {},
   "outputs": [],
   "source": [
    "def ReLU(x):\n",
    "    out = x\n",
    "    out[x < 0] = 0\n",
    "    return out\n",
    "\n",
    "def GradReLU(fx, error):\n",
    "    fx[fx > 0] = 1.0\n",
    "    return fx * error\n",
    "\n",
    "def Sigmoid(x):\n",
    "    out = np.zeros(x.size)\n",
    "    for i in range(x.size):\n",
    "        if x[i] > -700:\n",
    "            out[i] = 1.0 / (1.0 + np.exp(-x[i]))\n",
    "        else:\n",
    "            out[i] = 0.000001\n",
    "    return out\n",
    "\n",
    "def GradSigmoid(fx, error):\n",
    "    out = fx * (np.ones(fx.size) - fx)\n",
    "    return out * error\n",
    "\n",
    "def SoftMax(x):\n",
    "    out = np.zeros(x.shape)\n",
    "    for i in range(x.size):\n",
    "        if x[i] < 700:\n",
    "            out[i] = np.exp(x[i])\n",
    "        else:\n",
    "            out[i] = 1e300\n",
    "    return out / (np.sum(out) + 0.000001)\n",
    "\n",
    "def GradSoftMax(fx, error):\n",
    "    d = np.zeros(fx.size)\n",
    "    for i in range(fx.size):\n",
    "        kd = np.zeros(fx.size)\n",
    "        kd[i] = 1.0\n",
    "        d[i] = np.dot(error, fx[i] * (kd - fx))\n",
    "    return d"
   ]
  },
  {
   "cell_type": "code",
   "execution_count": 11,
   "metadata": {},
   "outputs": [],
   "source": [
    "Nh1 = 200\n",
    "Nh2 = 60\n",
    "Nh3 = 20\n",
    "\n",
    "# Randomly initiaize weights, initialize biases with zero\n",
    "W1 = np.random.uniform(low= -np.sqrt(TRAIN_IN.shape[0]*Nh1), high=np.sqrt(TRAIN_IN.shape[0]*Nh1), size=(TRAIN_IN.shape[0], Nh1))\n",
    "W2 = np.random.uniform(low= -np.sqrt(Nh1*Nh2), high=np.sqrt(Nh1*Nh2), size=(Nh1, Nh2))\n",
    "W3 = np.random.uniform(low= -np.sqrt(Nh2*Nh3), high=np.sqrt(Nh2*Nh3), size=(Nh2, Nh3))\n",
    "W4 = np.random.uniform(low= -np.sqrt(Nh3*10), high=np.sqrt(Nh3*10), size=(Nh3, 10))\n",
    "B1 = np.zeros(Nh1)\n",
    "B2 = np.zeros(Nh2)\n",
    "B3 = np.zeros(Nh3)\n",
    "B4 = np.zeros(10)\n",
    "\n",
    "\n",
    "# Train over 10 epochs\n",
    "RATE = 0.01\n",
    "errors = []\n",
    "for epoch in range(10):\n",
    "    err_ep = 0\n",
    "    for i in range(TRAIN_IN.shape[1]):\n",
    "        # Forward pass over this input value\n",
    "        # Input layer\n",
    "        z1 = np.matmul(W1.transpose(), TRAIN_IN[:,i]) + B1\n",
    "        a1 = ReLU(z1)\n",
    "        # First hidden layer\n",
    "        z2 = np.matmul(W2.transpose(), a1) + B2\n",
    "        a2 = ReLU(z2)\n",
    "        # Second hidden layer\n",
    "        z3 = np.matmul(W3.transpose(), a2) + B3\n",
    "        a3 = ReLU(z3)\n",
    "        # Output layer\n",
    "        z4 = np.matmul(W4.transpose(), a3) + B4\n",
    "        y = SoftMax(z4)\n",
    "\n",
    "        # Now calculate the error\n",
    "        if np.argmax(y) != TRAIN_OUT[i]:\n",
    "            err_ep += 1.0 / TRAIN_IN.shape[1]\n",
    "        target = np.zeros(10)\n",
    "        target[TRAIN_OUT[i]] = 1.0\n",
    "        eps = y - target       \n",
    "\n",
    "        # Backpropagate error\n",
    "        # Ouptut layer error\n",
    "        d4 = GradSoftMax(y, eps)\n",
    "        # Second hidden layer error\n",
    "        d3 = GradReLU(a3, np.matmul(W4, d4))\n",
    "        # First hidden layer error\n",
    "        d2 = GradReLU(a2, np.matmul(W3, d3))\n",
    "        # Input layer error\n",
    "        d1 = GradReLU(a1, np.matmul(W2, d2))\n",
    "\n",
    "        # Update model parameters\n",
    "        for n in range(W1.shape[1]):\n",
    "            W1[:,n] -= RATE * d1[n] * TRAIN_IN[:,i]\n",
    "        B1 -= RATE * d1\n",
    "\n",
    "        for n in range(W2.shape[1]):\n",
    "            W2[:,n] -= RATE * d2[n] * a1\n",
    "        B2 -= RATE * d2\n",
    "        \n",
    "        for n in range(W3.shape[1]):\n",
    "            W3[:,n] -= RATE * d3[n] * a2\n",
    "        B3 -= RATE * d3\n",
    "        \n",
    "        for n in range(W4.shape[1]):\n",
    "            W4[:,n] -= RATE * d4[n] * a3\n",
    "        B4 -= RATE * d4\n",
    "\n",
    "    errors.append(err_ep)\n",
    "\n"
   ]
  },
  {
   "cell_type": "code",
   "execution_count": 12,
   "metadata": {},
   "outputs": [
    {
     "data": {
      "text/plain": [
       "<matplotlib.collections.PathCollection at 0x170da9358d0>"
      ]
     },
     "execution_count": 12,
     "metadata": {},
     "output_type": "execute_result"
    },
    {
     "data": {
      "image/png": "[encoded data removed]",
      "text/plain": [
       "<Figure size 640x480 with 1 Axes>"
      ]
     },
     "metadata": {},
     "output_type": "display_data"
    }
   ],
   "source": [
    "plt.scatter(range(len(errors)), errors)"
   ]
  }
 ],
 "metadata": {
  "kernelspec": {
   "display_name": "Python 3",
   "language": "python",
   "name": "python3"
  },
  "language_info": {
   "codemirror_mode": {
    "name": "ipython",
    "version": 3
   },
   "file_extension": ".py",
   "mimetype": "text/x-python",
   "name": "python",
   "nbconvert_exporter": "python",
   "pygments_lexer": "ipython3",
   "version": "3.11.1"
  },
  "orig_nbformat": 4,
  "vscode": {
   "interpreter": {
    "hash": "7acf0e7c55703b1d62125093779d76af3b1e04738383ec7b3594d323472f8b38"
   }
  }
 },
 "nbformat": 4,
 "nbformat_minor": 2
}
