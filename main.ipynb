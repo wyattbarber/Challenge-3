{
 "cells": [
  {
   "attachments": {},
   "cell_type": "markdown",
   "metadata": {},
   "source": [
    "CIS 678 Challenge 3\n",
    "===================\n",
    "\n",
    "This notebook uses a C++ backend using Eigen and OpenMP for linear algebra and parallelization. The python module neuralnet is created from this backend uing PyBind11.\n",
    "\n",
    "The C++ source defines a class NeuralNetwork, which implements the forward and backward propatgation algorithms.\n",
    "\n",
    "\n",
    "The following have been tested using pytest:\n",
    "- The model can be constructed without errors\n",
    "- A forward pass can be run without errors\n",
    "- A backward pass can be run without errors\n",
    "- The model can be trained to implement the behavior of an XOR gate"
   ]
  },
  {
   "cell_type": "code",
   "execution_count": 1,
   "metadata": {},
   "outputs": [],
   "source": [
    "# Import C++ percemtron implementation\n",
    "import neuralnet as nn\n",
    "# Import other libraries\n",
    "import matplotlib.pyplot as plt\n",
    "import numpy as np"
   ]
  },
  {
   "cell_type": "code",
   "execution_count": 2,
   "metadata": {},
   "outputs": [],
   "source": [
    "# Load training data\n",
    "DATA = np.genfromtxt('data/train.csv', delimiter=',', skip_header=1)\n",
    "\n",
    "# Define a function to format and save data for submission\n",
    "def save_result(data, filename):\n",
    "    if not ('.csv' in filename):\n",
    "            filename += '.csv'\n",
    "\n",
    "    # Format results in the format kaggle wants \n",
    "    results_out = [[\"\\\"ed\\\"\",\"\\\"expected\\\"\"]]\n",
    "    for i in range(0, len(data)):\n",
    "        results_out.append([f\"\\\"stock_{i+1}\\\"\", f\"\\\"{int(data[i])}\\\"\"])\n",
    "\n",
    "\n",
    "    np.savetxt(F\"results/{filename}\", results_out, delimiter=',', fmt=\"%s\")\n"
   ]
  },
  {
   "attachments": {},
   "cell_type": "markdown",
   "metadata": {},
   "source": [
    "Basic Perceptron Based Prediction\n",
    "---------------------------------\n",
    "Format the data into slices of 10 days, where the first 9 are used for training and the 10th is used to test the output. Perform backpropagation over this data, then run a forward pass on the final slice of 9 days for each stock to make a final prediction. "
   ]
  },
  {
   "cell_type": "code",
   "execution_count": 3,
   "metadata": {},
   "outputs": [],
   "source": [
    "# Slice and format training data\n",
    "train = []\n",
    "test = []\n",
    "\n",
    "for i in range(0, 990, 100):\n",
    "    for j in range(0, DATA.shape[1]):\n",
    "        train.append(list(DATA[i:i+9, j]))\n",
    "        # Check if this stock is increasing or decreasing\n",
    "        if DATA[i+9, j] >= (DATA[i+8, j] * 1.01):\n",
    "            test.append([1])\n",
    "        else:\n",
    "            test.append([0])\n",
    "   "
   ]
  },
  {
   "attachments": {},
   "cell_type": "markdown",
   "metadata": {},
   "source": [
    "Construct and train the mode.\n",
    "For now, just guessing at model parmeters"
   ]
  },
  {
   "cell_type": "code",
   "execution_count": 5,
   "metadata": {},
   "outputs": [
    {
     "name": "stdout",
     "output_type": "stream",
     "text": [
      "Constructed neural network with 6 layers\n",
      "\t Layer 0 size 9\n",
      "\t Layer 1 size 10\n",
      "\t Layer 2 size 10\n",
      "\t Layer 3 size 10\n",
      "\t Layer 4 size 5\n",
      "\t Layer 5 size 1\n",
      "\n"
     ]
    },
    {
     "ename": "AttributeError",
     "evalue": "'neuralnet.NeuralNetwork' object has no attribute 'backprop'",
     "output_type": "error",
     "traceback": [
      "\u001b[1;31m---------------------------------------------------------------------------\u001b[0m",
      "\u001b[1;31mAttributeError\u001b[0m                            Traceback (most recent call last)",
      "Cell \u001b[1;32mIn[5], line 2\u001b[0m\n\u001b[0;32m      1\u001b[0m model \u001b[39m=\u001b[39m nn\u001b[39m.\u001b[39mNeuralNetwork([\u001b[39mlen\u001b[39m(train[\u001b[39m0\u001b[39m]), \u001b[39m10\u001b[39m, \u001b[39m10\u001b[39m, \u001b[39m10\u001b[39m, \u001b[39m5\u001b[39m, \u001b[39m1\u001b[39m], nn\u001b[39m.\u001b[39mActivationFunctions\u001b[39m.\u001b[39mReLU)\n\u001b[1;32m----> 2\u001b[0m model\u001b[39m.\u001b[39;49mbackprop(train, test, \u001b[39m0.1\u001b[39m, \u001b[39m10\u001b[39m)\n",
      "\u001b[1;31mAttributeError\u001b[0m: 'neuralnet.NeuralNetwork' object has no attribute 'backprop'"
     ]
    }
   ],
   "source": [
    "model = nn.NeuralNetwork([len(train[0]), 10, 10, 10, 5, 1], nn.ActivationFunctions.ReLU)\n",
    "model.train(train, test, 0.1, 10)"
   ]
  },
  {
   "attachments": {},
   "cell_type": "markdown",
   "metadata": {},
   "source": [
    "Now, generate the final results"
   ]
  },
  {
   "cell_type": "code",
   "execution_count": null,
   "metadata": {},
   "outputs": [],
   "source": [
    "results = []\n",
    "for stock in range(0, DATA.shape[1]):\n",
    "    out = model.forwardPass(list(DATA[-10:-1, stock]))[0]\n",
    "    results.append(1 if out > 0 else 0)\n",
    "\n",
    "save_result(results, \"basic_perceptron\")"
   ]
  }
 ],
 "metadata": {
  "kernelspec": {
   "display_name": "Python 3",
   "language": "python",
   "name": "python3"
  },
  "language_info": {
   "codemirror_mode": {
    "name": "ipython",
    "version": 3
   },
   "file_extension": ".py",
   "mimetype": "text/x-python",
   "name": "python",
   "nbconvert_exporter": "python",
   "pygments_lexer": "ipython3",
   "version": "3.11.1"
  },
  "orig_nbformat": 4
 },
 "nbformat": 4,
 "nbformat_minor": 2
}
