{
 "cells": [
  {
   "cell_type": "code",
   "execution_count": 1,
   "metadata": {},
   "outputs": [],
   "source": [
    "# Import C++ perceptron implementation\n",
    "import neuralnet as nn\n",
    "# Import other libraries\n",
    "import matplotlib.pyplot as plt\n",
    "import numpy as np\n",
    "np.random.seed(123)"
   ]
  },
  {
   "cell_type": "code",
   "execution_count": 2,
   "metadata": {},
   "outputs": [],
   "source": [
    "# Load training data\n",
    "TRAIN_RNA = np.genfromtxt('data/training_set_rna.csv', delimiter=',', skip_header=1)[:,1:]\n",
    "\n",
    "TRAIN_ADT = np.genfromtxt('data/training_set_adt.csv', delimiter=',', skip_header=1, dtype=int)[:,1:]\n",
    "\n",
    "TEST_RNA = np.genfromtxt('data/test_set_rna.csv', delimiter=',', skip_header=1)[:,1:]\n",
    "\n",
    "\n",
    "# Define a function to format and save data for submission\n",
    "def save_result(data, filename):\n",
    "    if not ('.csv' in filename):\n",
    "            filename += '.csv'\n",
    "\n",
    "    # Format results in the format kaggle wants \n",
    "    results_out = [[\"\\\"Id\\\"\",\"\\\"Expected\\\"\"]]\n",
    "    num = 1\n",
    "    for i in range(0, data.shape[1]):\n",
    "        for j in range(0, data.shape[0]):\n",
    "            results_out.append([f\"\\\"ID_{num}\\\"\", f\"\\\"{data[j,i]}\\\"\"])\n",
    "            num += 1\n",
    "\n",
    "    np.savetxt(F\"../results/{filename}\", results_out, delimiter=',', fmt=\"%s\")"
   ]
  },
  {
   "cell_type": "code",
   "execution_count": 4,
   "metadata": {},
   "outputs": [],
   "source": [
    "model = nn.Autoencoder(TEST_RNA.shape[0], 300)\n",
    "errors = model.train(TEST_RNA, 0.001, 10)\n",
    "plt.scatter(range(len(errors)), errors)\n"
   ]
  }
 ],
 "metadata": {
  "kernelspec": {
   "display_name": "Python 3",
   "language": "python",
   "name": "python3"
  },
  "language_info": {
   "codemirror_mode": {
    "name": "ipython",
    "version": 3
   },
   "file_extension": ".py",
   "mimetype": "text/x-python",
   "name": "python",
   "nbconvert_exporter": "python",
   "pygments_lexer": "ipython3",
   "version": "3.11.1"
  },
  "orig_nbformat": 4
 },
 "nbformat": 4,
 "nbformat_minor": 2
}
