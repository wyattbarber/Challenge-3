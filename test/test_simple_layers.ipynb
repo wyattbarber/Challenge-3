{
 "cells": [
  {
   "cell_type": "code",
   "execution_count": 1,
   "metadata": {},
   "outputs": [],
   "source": [
    "# Import C++ perceptron implementation\n",
    "import pyneuralnet as nn\n",
    "# Import other libraries\n",
    "import matplotlib.pyplot as plt\n",
    "import numpy as np\n",
    "import pickle\n",
    "import time\n",
    "np.random.seed(123)"
   ]
  },
  {
   "cell_type": "code",
   "execution_count": 2,
   "metadata": {},
   "outputs": [],
   "source": [
    "N = 2\n",
    "a = 0.0000001\n",
    "AdamArgs = (0.9, 0.999)"
   ]
  },
  {
   "cell_type": "code",
   "execution_count": 3,
   "metadata": {},
   "outputs": [],
   "source": [
    "layers = [\n",
    "    nn.fullconnect.TanH(784, 500, *AdamArgs), \n",
    "    nn.fullconnect.ReLU(500, 300, *AdamArgs), \n",
    "    nn.fullconnect.ReLU(300, 100, *AdamArgs), \n",
    "    nn.fullconnect.ReLU(100, 100, *AdamArgs), \n",
    "    nn.fullconnect.ReLU(100, 50, *AdamArgs), \n",
    "    nn.fullconnect.SoftMax(50, 10, *AdamArgs)\n",
    "]"
   ]
  },
  {
   "cell_type": "code",
   "execution_count": 4,
   "metadata": {},
   "outputs": [],
   "source": [
    "model = nn.compound.Sequence(*layers)"
   ]
  },
  {
   "cell_type": "code",
   "execution_count": 5,
   "metadata": {},
   "outputs": [],
   "source": [
    "# Load training data\n",
    "class Data(nn.abstract.DataSource):\n",
    "    def __init__(self):\n",
    "        super().__init__()\n",
    "        self.TRAIN_IN, self.TRAIN_OUT = pickle.load(open('data/mnist_preprocessed.pickle', 'rb'))\n",
    "    \n",
    "    def size(self):\n",
    "        return len(self.TRAIN_IN)\n",
    "    \n",
    "    def sample(self, i):\n",
    "        out = np.zeros((10,1))\n",
    "        out[self.TRAIN_OUT[i]] = 1.0\n",
    "        return (self.TRAIN_IN[i], out)\n",
    "\n",
    "data = Data()\n",
    "loss = nn.loss.L2()"
   ]
  },
  {
   "cell_type": "code",
   "execution_count": 6,
   "metadata": {},
   "outputs": [],
   "source": [
    "trainer = nn.training.Trainer(model, data, loss)"
   ]
  },
  {
   "cell_type": "code",
   "execution_count": 7,
   "metadata": {},
   "outputs": [
    {
     "name": "stdout",
     "output_type": "stream",
     "text": [
      "Training of model complete in 74.70423829555511 seconds per epoch.\n"
     ]
    },
    {
     "data": {
      "image/png": "[encoded data removed]",
      "text/plain": [
       "<Figure size 640x480 with 1 Axes>"
      ]
     },
     "metadata": {},
     "output_type": "display_data"
    }
   ],
   "source": [
    "ts = time.time()\n",
    "errors = trainer.train(N, a)\n",
    "duration = time.time() - ts\n",
    "print(f\"Training of model complete in {duration / N} seconds per epoch.\")\n",
    "\n",
    "plt.title(\"Training Error\")\n",
    "plt.plot(range(len(errors)), errors)\n",
    "plt.show()"
   ]
  },
  {
   "cell_type": "code",
   "execution_count": 8,
   "metadata": {},
   "outputs": [
    {
     "name": "stdout",
     "output_type": "stream",
     "text": [
      "nan - nan - nan\n"
     ]
    }
   ],
   "source": [
    "import pickle\n",
    "\n",
    "bts = pickle.dumps(model)\n",
    "sour_model = pickle.loads(bts)\n",
    "out1 = model.forward(data.sample(0)[0])\n",
    "out2 = sour_model.forward(data.sample(0)[0])\n",
    "diff = abs(out1 - out2)\n",
    "print(f\"{np.min(diff)} - {np.mean(diff)} - {np.max(diff)}\")"
   ]
  }
 ],
 "metadata": {
  "kernelspec": {
   "display_name": "Python 3",
   "language": "python",
   "name": "python3"
  },
  "language_info": {
   "codemirror_mode": {
    "name": "ipython",
    "version": 3
   },
   "file_extension": ".py",
   "mimetype": "text/x-python",
   "name": "python",
   "nbconvert_exporter": "python",
   "pygments_lexer": "ipython3",
   "version": "3.11.1"
  },
  "orig_nbformat": 4,
  "vscode": {
   "interpreter": {
    "hash": "7acf0e7c55703b1d62125093779d76af3b1e04738383ec7b3594d323472f8b38"
   }
  }
 },
 "nbformat": 4,
 "nbformat_minor": 2
}
