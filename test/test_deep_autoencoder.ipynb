{
 "cells": [
  {
   "cell_type": "code",
   "execution_count": null,
   "metadata": {},
   "outputs": [],
   "source": [
    "# Import C++ perceptron implementation\n",
    "import neuralnet as nn\n",
    "# Import other libraries\n",
    "import matplotlib.pyplot as plt\n",
    "import numpy as np\n",
    "import pickle\n",
    "import time\n",
    "np.random.seed(123)"
   ]
  },
  {
   "cell_type": "code",
   "execution_count": null,
   "metadata": {},
   "outputs": [],
   "source": [
    "# Load training data\n",
    "class Data(nn.DataSource):\n",
    "    def __init__(self):\n",
    "        super().__init__()\n",
    "        self.TRAIN_IN, self.TRAIN_OUT = pickle.load(open('data/mnist_preprocessed.pickle', 'rb'))\n",
    "    \n",
    "    def size(self):\n",
    "        return len(self.TRAIN_IN)\n",
    "    \n",
    "    def sample(self, i):\n",
    "        return (self.TRAIN_IN[i], self.TRAIN_IN[i])\n",
    "\n",
    "data = Data()"
   ]
  },
  {
   "cell_type": "code",
   "execution_count": null,
   "metadata": {},
   "outputs": [],
   "source": [
    "N = 10\n",
    "a = 0.0001\n",
    "AdamArgs = (0.9, 0.999)"
   ]
  },
  {
   "cell_type": "code",
   "execution_count": null,
   "metadata": {},
   "outputs": [],
   "source": [
    "model = nn.Sequence([nn.DeepAutoEncoder([784, 500, 50], *AdamArgs)])\n",
    "trainer = nn.Trainer(model, data)"
   ]
  },
  {
   "cell_type": "code",
   "execution_count": null,
   "metadata": {},
   "outputs": [],
   "source": [
    "ts = time.time()\n",
    "errors = trainer.train(N, a)\n",
    "duration = time.time() - ts\n",
    "print(f\"Training of coupled autoencoder complete in {duration / N} seconds per epoch.\")\n",
    "\n",
    "plt.title(\"Training Error\")\n",
    "plt.plot(range(len(errors)), errors)\n",
    "plt.show()"
   ]
  }
 ],
 "metadata": {
  "kernelspec": {
   "display_name": "Python 3",
   "language": "python",
   "name": "python3"
  },
  "language_info": {
   "codemirror_mode": {
    "name": "ipython",
    "version": 3
   },
   "file_extension": ".py",
   "mimetype": "text/x-python",
   "name": "python",
   "nbconvert_exporter": "python",
   "pygments_lexer": "ipython3",
   "version": "3.11.10"
  }
 },
 "nbformat": 4,
 "nbformat_minor": 2
}
