{
 "cells": [
  {
   "cell_type": "code",
   "execution_count": null,
   "metadata": {},
   "outputs": [],
   "source": [
    "import pyneuralnet as nn\n",
    "import matplotlib.pyplot as plt\n",
    "import numpy as np\n",
    "import pickle\n",
    "import time\n",
    "from typing import List, Any\n",
    "np.random.seed(123)"
   ]
  },
  {
   "cell_type": "code",
   "execution_count": null,
   "metadata": {},
   "outputs": [],
   "source": [
    "class Data(nn.abstract.DataSource2D):\n",
    "    _train_in : List[Any]\n",
    "    _train_out : List[Any]\n",
    "\n",
    "    def __init__(self):\n",
    "        super().__init__()\n",
    "        train_in, _ = pickle.load(open('data/mnist_preprocessed.pickle', 'rb'))\n",
    "        self._train_in = [np.reshape(x, (28,28,1)).astype(np.float32) for x in train_in]\n",
    "        self._train_out = [np.reshape(x, (28,28,1)).astype(np.float32) for x in train_in]\n",
    "\n",
    "    def size(self):\n",
    "        return len(self._train_in)\n",
    "\n",
    "    def sample(self, i : int):\n",
    "        return (self._train_in[i], self._train_out[i])"
   ]
  },
  {
   "cell_type": "code",
   "execution_count": null,
   "metadata": {},
   "outputs": [],
   "source": [
    "N = 10\n",
    "a = 0.00001"
   ]
  },
  {
   "cell_type": "code",
   "execution_count": null,
   "metadata": {},
   "outputs": [],
   "source": [
    "model = nn.compound.Sequence(\n",
    "    nn.compound.UNet(1, 0.6, True),\n",
    "    nn.convolution.Conv2D(2, 1),\n",
    "    nn.convolution.Sigmoid2D()\n",
    ")\n",
    "# model = nn.compound.Sequence(\n",
    "#     nn.convolution.Conv2D(1,3,0.9,0.999),\n",
    "#     nn.normalize.BatchRenorm2D(1,0.8,0.9,0.999),\n",
    "#     nn.convolution.ReLU2D(),\n",
    "#     nn.convolution.Conv2D(3,1,0.9,0.999),\n",
    "#     nn.normalize.BatchRenorm2D(1,0.8,0.9,0.999),\n",
    "#     nn.convolution.ReLU2D(),\n",
    "# )\n",
    "# model = nn.compound.UNet(1, 0.8, 0.9, 0.999, True)\n",
    "data = Data()\n",
    "loss = nn.loss.L2()\n",
    "trainer = nn.training.Trainer2D(model, data, loss)"
   ]
  },
  {
   "cell_type": "code",
   "execution_count": null,
   "metadata": {},
   "outputs": [],
   "source": [
    "sample = data.sample(0)"
   ]
  },
  {
   "cell_type": "code",
   "execution_count": null,
   "metadata": {},
   "outputs": [],
   "source": [
    "sample[0].shape"
   ]
  },
  {
   "cell_type": "code",
   "execution_count": null,
   "metadata": {},
   "outputs": [],
   "source": [
    "plt.imshow(sample[0])\n",
    "plt.colorbar()"
   ]
  },
  {
   "cell_type": "code",
   "execution_count": null,
   "metadata": {},
   "outputs": [],
   "source": [
    "plt.imshow(sample[1])\n",
    "plt.colorbar()\n",
    "sample[1].shape"
   ]
  },
  {
   "cell_type": "code",
   "execution_count": null,
   "metadata": {},
   "outputs": [],
   "source": [
    "out = model.forward(sample[0])"
   ]
  },
  {
   "cell_type": "code",
   "execution_count": null,
   "metadata": {},
   "outputs": [],
   "source": [
    "\n",
    "plt.imshow(out)\n",
    "plt.colorbar()\n",
    "out.shape"
   ]
  },
  {
   "cell_type": "code",
   "execution_count": null,
   "metadata": {},
   "outputs": [],
   "source": [
    "b = model.backward(out - sample[1])\n",
    "plt.imshow(b)\n",
    "plt.colorbar()\n",
    "b.shape"
   ]
  },
  {
   "cell_type": "code",
   "execution_count": null,
   "metadata": {},
   "outputs": [],
   "source": [
    "model.train()"
   ]
  },
  {
   "cell_type": "code",
   "execution_count": null,
   "metadata": {},
   "outputs": [],
   "source": [
    "ts = time.time()\n",
    "errors = trainer.train(N, a)\n",
    "duration = time.time() - ts\n",
    "print(f\"Training of model complete in {duration / N} seconds per epoch, {duration * 1000 / (N * data.size())} milliseconds per sample.\")\n",
    "\n",
    "plt.title(\"Training Error\")\n",
    "plt.plot(range(len(errors)), errors)\n",
    "plt.show()"
   ]
  },
  {
   "cell_type": "code",
   "execution_count": null,
   "metadata": {},
   "outputs": [],
   "source": [
    "sample = data.sample(10)"
   ]
  },
  {
   "cell_type": "code",
   "execution_count": null,
   "metadata": {},
   "outputs": [],
   "source": [
    "plt.imshow(sample[0])\n",
    "plt.colorbar()"
   ]
  },
  {
   "cell_type": "code",
   "execution_count": null,
   "metadata": {},
   "outputs": [],
   "source": [
    "out = model.forward(sample[0])\n",
    "out.shape"
   ]
  },
  {
   "cell_type": "code",
   "execution_count": null,
   "metadata": {},
   "outputs": [],
   "source": [
    "plt.imshow(out)\n",
    "plt.colorbar()\n",
    "print(f\"L2 error: {np.square(out - sample[1]).sum() / out.size}\")"
   ]
  },
  {
   "cell_type": "code",
   "execution_count": null,
   "metadata": {},
   "outputs": [],
   "source": [
    "import pickle\n",
    "\n",
    "bts = pickle.dumps(model)\n",
    "sour_model = pickle.loads(bts)\n",
    "out2 = sour_model.forward(sample[0])\n",
    "diff = abs(out - out2)\n",
    "print(f\"{np.min(diff)} - {np.mean(diff)} - {np.max(diff)}\")"
   ]
  },
  {
   "cell_type": "code",
   "execution_count": null,
   "metadata": {},
   "outputs": [],
   "source": [
    "plt.imshow(out2)\n",
    "plt.colorbar()"
   ]
  }
 ],
 "metadata": {
  "kernelspec": {
   "display_name": "Python 3",
   "language": "python",
   "name": "python3"
  },
  "language_info": {
   "codemirror_mode": {
    "name": "ipython",
    "version": 3
   },
   "file_extension": ".py",
   "mimetype": "text/x-python",
   "name": "python",
   "nbconvert_exporter": "python",
   "pygments_lexer": "ipython3",
   "version": "3.11.1"
  }
 },
 "nbformat": 4,
 "nbformat_minor": 2
}
