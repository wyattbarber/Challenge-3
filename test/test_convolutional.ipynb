{
 "cells": [
  {
   "cell_type": "code",
   "execution_count": 1,
   "metadata": {},
   "outputs": [],
   "source": [
    "import pyneuralnet as nn\n",
    "import matplotlib.pyplot as plt\n",
    "import numpy as np\n",
    "import pickle\n",
    "import time\n",
    "from typing import List, Any\n",
    "np.random.seed(123)"
   ]
  },
  {
   "cell_type": "code",
   "execution_count": 2,
   "metadata": {},
   "outputs": [],
   "source": [
    "class Data(nn.abstract.DataSource2D):\n",
    "    _train_in : List[Any]\n",
    "    _train_out : List[Any]\n",
    "\n",
    "    def __init__(self):\n",
    "        super().__init__()\n",
    "        train_in, _ = pickle.load(open('data/mnist_preprocessed.pickle', 'rb'))\n",
    "        self._train_in = [np.reshape(x, (28,28,1)) for x in train_in]\n",
    "        self._train_out = [np.reshape(x, (28,28,1)) for x in train_in]\n",
    "\n",
    "    def size(self):\n",
    "        return len(self._train_in)\n",
    "\n",
    "    def sample(self, i : int):\n",
    "        return (self._train_in[i], self._train_out[i])\n",
    "\n",
    "class Model(nn.abstract.Model):\n",
    "    def __init__(self):\n",
    "        super().__init__()\n",
    "        self._pool = nn.convolution.MaxPoolEncoder2D()\n",
    "        self._layer1 = nn.convolution.Conv2D(1,3, 0.9,0.999)\n",
    "        # self._layer2 = nn.convolution.MaxPool2D()\n",
    "        self._layer3 = nn.convolution.Conv2D(3,3, 0.9,0.999)\n",
    "        # self._layer4 = nn.convolution.MaxUnPool2D(self._layer2)\n",
    "        self._layer5 = nn.convolution.Conv2D(3,1, 0.9,0.999)\n",
    "        self._layer6 = nn.convolution.Sigmoid2D()\n",
    "    \n",
    "    def forward(self, input):\n",
    "        return  self._layer6.forward(\n",
    "                    self._layer5.forward(\n",
    "                        self._pool.decode(\n",
    "                            self._layer3.forward(\n",
    "                                self._pool.encode(\n",
    "                                    self._layer1.forward(input)\n",
    "                                )\n",
    "                            )\n",
    "                        )\n",
    "                    )\n",
    "                )\n",
    "    \n",
    "    def backward(self, error):\n",
    "        return  self._layer1.backward(\n",
    "                    self._pool.backward_encode(\n",
    "                        self._layer3.backward(\n",
    "                            self._pool.backward_decode(\n",
    "                                self._layer5.backward(\n",
    "                                    self._layer6.backward(error)\n",
    "                                )\n",
    "                            )\n",
    "                        )\n",
    "                    )\n",
    "                )\n",
    "    \n",
    "    def update(self, rate):\n",
    "        self._layer1.update(rate)\n",
    "        self._layer3.update(rate)\n",
    "        self._layer5.update(rate)\n",
    "        self._layer6.update(rate)\n",
    "    "
   ]
  },
  {
   "cell_type": "code",
   "execution_count": null,
   "metadata": {},
   "outputs": [],
   "source": [
    "class ModelUNet(nn.abstract.Model):\n",
    "    _unet : nn.compound.UNet\n",
    "    _bin : nn.compound.Sequence\n",
    "\n",
    "    def __init__(self):\n",
    "        super().__init__()\n",
    "        self._unet = nn.compound.UNet(1, 0.6, 0.9, 0.999, True)\n",
    "        self._bin = nn.compound.Sequence(\n",
    "                nn.convolution.Conv2D(2, 1, 0.9, 0.999),\n",
    "                nn.convolution.Sigmoid2D()\n",
    "            )\n",
    "\n",
    "    def forward(self, input):\n",
    "        return  self._bin.forward(\n",
    "                    self._unet.forward(\n",
    "                        input\n",
    "                    )\n",
    "                )\n",
    "    \n",
    "    def backward(self, error):\n",
    "        return  self._unet.backward(\n",
    "                    self._bin.backward(\n",
    "                        error\n",
    "                    )\n",
    "                )\n",
    "    \n",
    "    def update(self, rate):\n",
    "        self._unet.update(rate)\n",
    "        self._bin.update(rate)"
   ]
  },
  {
   "cell_type": "code",
   "execution_count": 4,
   "metadata": {},
   "outputs": [],
   "source": [
    "N = 3\n",
    "a = 0.00001"
   ]
  },
  {
   "cell_type": "code",
   "execution_count": 5,
   "metadata": {},
   "outputs": [
    {
     "ename": "AttributeError",
     "evalue": "module 'pyneuralnet.convolution' has no attribute 'UNet'",
     "output_type": "error",
     "traceback": [
      "\u001b[1;31m---------------------------------------------------------------------------\u001b[0m",
      "\u001b[1;31mAttributeError\u001b[0m                            Traceback (most recent call last)",
      "Cell \u001b[1;32mIn[5], line 1\u001b[0m\n\u001b[1;32m----> 1\u001b[0m model \u001b[38;5;241m=\u001b[39m \u001b[43mModelUNet\u001b[49m\u001b[43m(\u001b[49m\u001b[43m)\u001b[49m\n\u001b[0;32m      2\u001b[0m data \u001b[38;5;241m=\u001b[39m Data()\n\u001b[0;32m      3\u001b[0m loss \u001b[38;5;241m=\u001b[39m nn\u001b[38;5;241m.\u001b[39mloss\u001b[38;5;241m.\u001b[39mL2()\n",
      "Cell \u001b[1;32mIn[3], line 7\u001b[0m, in \u001b[0;36mModelUNet.__init__\u001b[1;34m(self)\u001b[0m\n\u001b[0;32m      5\u001b[0m \u001b[38;5;28;01mdef\u001b[39;00m \u001b[38;5;21m__init__\u001b[39m(\u001b[38;5;28mself\u001b[39m):\n\u001b[0;32m      6\u001b[0m     \u001b[38;5;28msuper\u001b[39m()\u001b[38;5;241m.\u001b[39m\u001b[38;5;21m__init__\u001b[39m()\n\u001b[1;32m----> 7\u001b[0m     \u001b[38;5;28mself\u001b[39m\u001b[38;5;241m.\u001b[39m_unet \u001b[38;5;241m=\u001b[39m \u001b[43mnn\u001b[49m\u001b[38;5;241;43m.\u001b[39;49m\u001b[43mconvolution\u001b[49m\u001b[38;5;241;43m.\u001b[39;49m\u001b[43mUNet\u001b[49m(\u001b[38;5;241m1\u001b[39m, \u001b[38;5;241m0.6\u001b[39m, \u001b[38;5;241m0.9\u001b[39m, \u001b[38;5;241m0.999\u001b[39m, \u001b[38;5;28;01mTrue\u001b[39;00m)\n\u001b[0;32m      8\u001b[0m     \u001b[38;5;28mself\u001b[39m\u001b[38;5;241m.\u001b[39m_bin \u001b[38;5;241m=\u001b[39m nn\u001b[38;5;241m.\u001b[39mcompound\u001b[38;5;241m.\u001b[39mSequence(\n\u001b[0;32m      9\u001b[0m             nn\u001b[38;5;241m.\u001b[39mconvolution\u001b[38;5;241m.\u001b[39mConv2D(\u001b[38;5;241m2\u001b[39m, \u001b[38;5;241m1\u001b[39m, \u001b[38;5;241m0.9\u001b[39m, \u001b[38;5;241m0.999\u001b[39m),\n\u001b[0;32m     10\u001b[0m             nn\u001b[38;5;241m.\u001b[39mconvolution\u001b[38;5;241m.\u001b[39mSigmoid2D()\n\u001b[0;32m     11\u001b[0m         )\n",
      "\u001b[1;31mAttributeError\u001b[0m: module 'pyneuralnet.convolution' has no attribute 'UNet'"
     ]
    }
   ],
   "source": [
    "model = ModelUNet()\n",
    "data = Data()\n",
    "loss = nn.loss.L2()\n",
    "trainer = nn.training.Trainer2D(model, data, loss)"
   ]
  },
  {
   "cell_type": "code",
   "execution_count": null,
   "metadata": {},
   "outputs": [],
   "source": [
    "sample = data.sample(0)"
   ]
  },
  {
   "cell_type": "code",
   "execution_count": null,
   "metadata": {},
   "outputs": [],
   "source": [
    "sample[0].shape"
   ]
  },
  {
   "cell_type": "code",
   "execution_count": null,
   "metadata": {},
   "outputs": [],
   "source": [
    "plt.imshow(sample[0])"
   ]
  },
  {
   "cell_type": "code",
   "execution_count": null,
   "metadata": {},
   "outputs": [],
   "source": [
    "plt.imshow(sample[1])\n",
    "sample[1].shape"
   ]
  },
  {
   "cell_type": "code",
   "execution_count": null,
   "metadata": {},
   "outputs": [],
   "source": [
    "ts = time.time()\n",
    "errors = trainer.train(N, a)\n",
    "duration = time.time() - ts\n",
    "print(f\"Training of model complete in {duration / N} seconds per epoch, {duration * 1000 / (N * data.size())} milliseconds per sample.\")\n",
    "\n",
    "plt.title(\"Training Error\")\n",
    "plt.plot(range(len(errors)), errors)\n",
    "plt.show()"
   ]
  },
  {
   "cell_type": "code",
   "execution_count": null,
   "metadata": {},
   "outputs": [],
   "source": [
    "plt.imshow(sample[0])\n",
    "plt.colorbar()"
   ]
  },
  {
   "cell_type": "code",
   "execution_count": null,
   "metadata": {},
   "outputs": [],
   "source": [
    "out = model.forward(sample[0])\n",
    "out.shape"
   ]
  },
  {
   "cell_type": "code",
   "execution_count": null,
   "metadata": {},
   "outputs": [],
   "source": [
    "plt.imshow(out)\n",
    "plt.colorbar()"
   ]
  },
  {
   "cell_type": "code",
   "execution_count": null,
   "metadata": {},
   "outputs": [],
   "source": [
    "import pickle\n",
    "\n",
    "bts = pickle.dumps(model)\n",
    "sour_model = pickle.loads(bts)\n",
    "out1 = model.forward(data.sample(0)[0])\n",
    "out2 = sour_model.forward(data.sample(0)[0])\n",
    "diff = abs(out1 - out2)\n",
    "print(f\"{np.min(diff)} - {np.mean(diff)} - {np.max(diff)}\")"
   ]
  }
 ],
 "metadata": {
  "kernelspec": {
   "display_name": "Python 3",
   "language": "python",
   "name": "python3"
  },
  "language_info": {
   "codemirror_mode": {
    "name": "ipython",
    "version": 3
   },
   "file_extension": ".py",
   "mimetype": "text/x-python",
   "name": "python",
   "nbconvert_exporter": "python",
   "pygments_lexer": "ipython3",
   "version": "3.11.10"
  }
 },
 "nbformat": 4,
 "nbformat_minor": 2
}
