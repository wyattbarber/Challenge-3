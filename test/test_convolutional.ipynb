{
 "cells": [
  {
   "cell_type": "code",
   "execution_count": null,
   "metadata": {},
   "outputs": [],
   "source": [
    "import neuralnet as nn\n",
    "import matplotlib.pyplot as plt\n",
    "import numpy as np\n",
    "import pickle\n",
    "import time\n",
    "from typing import List\n",
    "np.random.seed(123)"
   ]
  },
  {
   "cell_type": "code",
   "execution_count": null,
   "metadata": {},
   "outputs": [],
   "source": [
    "class Data(nn.DataSource2D):\n",
    "    _train_in : List[Any]\n",
    "    _train_out : List[Any]\n",
    "\n",
    "    def __init__(self):\n",
    "        super().__init__()\n",
    "        train_in, _ = pickle.load(open('test/data/mnist_preprocessed.pickle', 'rb'))\n",
    "        self._train_in = [np.reshape(x, (28,28,1)) for x in train_in]\n",
    "        train_out = [np.concatenate((x,x,x), axis=2) for x in self._train_in]\n",
    "        self._train_out = [x[::5, ::5, :] for x in train_out]\n",
    "\n",
    "    def size(self):\n",
    "        return len(self._train_in)\n",
    "\n",
    "    def sample(self, i : int):\n",
    "        return (self._train_in[i], self._train_out[i])\n",
    "\n",
    "class Model(nn.Conv2D):\n",
    "    def __init__(self):\n",
    "        super().__init__(1,3)\n",
    "        self._layer2 = nn.MaxPool2D()\n",
    "    \n",
    "    def forward(self, input):\n",
    "        out = self._layer2.forward(super().forward(input))\n",
    "        return out\n",
    "    \n",
    "    def backward(self, error):\n",
    "        return super().backward(self._layer2.backward(error))\n",
    "    \n",
    "    def update(self, rate):\n",
    "        super().update(rate)\n",
    "        self._layer2.update(rate)"
   ]
  },
  {
   "cell_type": "code",
   "execution_count": null,
   "metadata": {},
   "outputs": [],
   "source": [
    "N = 2\n",
    "a = 0.0001"
   ]
  },
  {
   "cell_type": "code",
   "execution_count": null,
   "metadata": {},
   "outputs": [],
   "source": [
    "model = Model()\n",
    "data = Data()\n",
    "trainer = nn.Trainer2D(model, data)"
   ]
  },
  {
   "cell_type": "code",
   "execution_count": null,
   "metadata": {},
   "outputs": [],
   "source": [
    "sample = data.sample(0)\n",
    "out = model.forward(sample[0])\n",
    "out.shape"
   ]
  },
  {
   "cell_type": "code",
   "execution_count": null,
   "metadata": {},
   "outputs": [],
   "source": [
    "ts = time.time()\n",
    "errors = trainer.train(N, a)\n",
    "duration = time.time() - ts\n",
    "print(f\"Training of model complete in {duration / N} seconds per epoch.\")\n",
    "\n",
    "plt.title(\"Training Error\")\n",
    "plt.plot(range(len(errors)), errors)\n",
    "plt.show()"
   ]
  }
 ],
 "metadata": {
  "kernelspec": {
   "display_name": "Python 3",
   "language": "python",
   "name": "python3"
  },
  "language_info": {
   "codemirror_mode": {
    "name": "ipython",
    "version": 3
   },
   "file_extension": ".py",
   "mimetype": "text/x-python",
   "name": "python",
   "nbconvert_exporter": "python",
   "pygments_lexer": "ipython3",
   "version": "3.10.12"
  }
 },
 "nbformat": 4,
 "nbformat_minor": 2
}
