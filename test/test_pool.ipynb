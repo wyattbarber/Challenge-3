{
 "cells": [
  {
   "cell_type": "code",
   "execution_count": 1,
   "metadata": {},
   "outputs": [],
   "source": [
    "import neuralnet as nn\n",
    "import matplotlib.pyplot as plt\n",
    "import numpy as np\n",
    "import pickle\n",
    "import time\n",
    "from typing import List, Any\n",
    "np.random.seed(123)"
   ]
  },
  {
   "cell_type": "code",
   "execution_count": null,
   "metadata": {},
   "outputs": [],
   "source": [
    "class Pooler(nn.Model2D):\n",
    "    def __init__(self):\n",
    "        super().__init__()\n",
    "        self._layer1 = nn.convolution.MaxPool2D()\n",
    "        self._layer2 = nn.convolution.MaxPool2D()\n",
    "    \n",
    "    def forward(self, input):\n",
    "        h = self._layer1.forward(input)\n",
    "        print(np.round(h[:,:,0]))\n",
    "        return  self._layer2.forward(h)\n",
    "    \n",
    "    def backward(self, error):\n",
    "        return  self._layer1.backward(\n",
    "                    self._layer2.backward(error)\n",
    "                    )\n",
    "    \n",
    "    def update(self, rate):\n",
    "        self._layer1.update(rate)\n",
    "        self._layer2.update(rate)\n",
    "\n",
    "\n",
    "class UnPooler(nn.Model2D):\n",
    "    def __init__(self, pooler):\n",
    "        super().__init__()\n",
    "        self._layer1 = nn.convolution.MaxUnPool2D(pooler._layer2)\n",
    "        self._layer2 = nn.convolution.MaxUnPool2D(pooler._layer1)\n",
    "    \n",
    "    def forward(self, input):\n",
    "        h = self._layer1.forward(input)\n",
    "        print(np.round(h[:,:,0]))\n",
    "        return  self._layer2.forward(h)\n",
    "    \n",
    "    def backward(self, error):\n",
    "        return  self._layer1.backward(\n",
    "                    self._layer2.backward(error)\n",
    "                    )\n",
    "    \n",
    "    def update(self, rate):\n",
    "        self._layer1.update(rate)\n",
    "        self._layer2.update(rate)"
   ]
  },
  {
   "cell_type": "code",
   "execution_count": 3,
   "metadata": {},
   "outputs": [],
   "source": [
    "pool = Pooler()\n",
    "unpool = UnPooler(pool)"
   ]
  },
  {
   "cell_type": "code",
   "execution_count": 4,
   "metadata": {},
   "outputs": [],
   "source": [
    "data = np.array([\n",
    "    [1, 2, 1, 0,-1, 0, 7, 0],\n",
    "    [1, 1,-1, 1,-1, 5,-3, 9],\n",
    "    [0, 0, 3, 2, 1, 1, 8, 0],\n",
    "    [0, 0, 1, 0, 1,-1, 0, 0],\n",
    "    [1, 2, 1, 0, 7, 7, 4,-1],\n",
    "    [1, 3, 1, 0, 1, 9,-9, 0],\n",
    "    [1, 2, 1, 0, 7, 7, 4,-1],\n",
    "    [1, 1,-1, 1,-1, 5,-3, 9],\n",
    "]).reshape((8,8,1))\n",
    "pooled = np.array([\n",
    "    [np.mean(data[:4,:4,0]), np.mean(data[:4,4:,0])],\n",
    "    [np.mean(data[:4,:4,0]), np.mean(data[4:,4:,0])]\n",
    "]).reshape((2,2,1))\n",
    "unpooled = np.array([\n",
    "    [0, 0, 0, 0, 0, 0, 0, 0],\n",
    "    [0, 0, 0, 0, 0, 0, 0, 9],\n",
    "    [0, 0, 3, 0, 0, 0, 0, 0],\n",
    "    [0, 0, 0, 0, 0, 0, 0, 0],\n",
    "    [0, 0, 0, 0, 0, 0, 0, 0],\n",
    "    [0, 3, 0, 0, 0, 9, 0, 0],\n",
    "    [0, 0, 0, 0, 0, 0, 0, 0],\n",
    "    [0, 0, 0, 0, 0, 0, 0, 0],\n",
    "]).reshape((8,8,1))"
   ]
  },
  {
   "cell_type": "code",
   "execution_count": 5,
   "metadata": {},
   "outputs": [
    {
     "data": {
      "text/plain": [
       "array([[ 1,  2,  1,  0, -1,  0,  7,  0],\n",
       "       [ 1,  1, -1,  1, -1,  5, -3,  9],\n",
       "       [ 0,  0,  3,  2,  1,  1,  8,  0],\n",
       "       [ 0,  0,  1,  0,  1, -1,  0,  0],\n",
       "       [ 1,  2,  1,  0,  7,  7,  4, -1],\n",
       "       [ 1,  3,  1,  0,  1,  9, -9,  0],\n",
       "       [ 1,  2,  1,  0,  7,  7,  4, -1],\n",
       "       [ 1,  1, -1,  1, -1,  5, -3,  9]])"
      ]
     },
     "execution_count": 5,
     "metadata": {},
     "output_type": "execute_result"
    }
   ],
   "source": [
    "np.round(data[:,:,0])"
   ]
  },
  {
   "cell_type": "code",
   "execution_count": 6,
   "metadata": {},
   "outputs": [
    {
     "data": {
      "text/plain": [
       "array([[1., 2.],\n",
       "       [1., 3.]])"
      ]
     },
     "execution_count": 6,
     "metadata": {},
     "output_type": "execute_result"
    }
   ],
   "source": [
    "np.round(pooled[:,:,0])"
   ]
  },
  {
   "cell_type": "code",
   "execution_count": 7,
   "metadata": {},
   "outputs": [
    {
     "data": {
      "text/plain": [
       "array([[0, 0, 0, 0, 0, 0, 0, 0],\n",
       "       [0, 0, 0, 0, 0, 0, 0, 9],\n",
       "       [0, 0, 3, 0, 0, 0, 0, 0],\n",
       "       [0, 0, 0, 0, 0, 0, 0, 0],\n",
       "       [0, 0, 0, 0, 0, 0, 0, 0],\n",
       "       [0, 3, 0, 0, 0, 9, 0, 0],\n",
       "       [0, 0, 0, 0, 0, 0, 0, 0],\n",
       "       [0, 0, 0, 0, 0, 0, 0, 0]])"
      ]
     },
     "execution_count": 7,
     "metadata": {},
     "output_type": "execute_result"
    }
   ],
   "source": [
    "np.round(unpooled[:,:,0])"
   ]
  },
  {
   "cell_type": "code",
   "execution_count": 8,
   "metadata": {},
   "outputs": [
    {
     "name": "stdout",
     "output_type": "stream",
     "text": [
      "[[2. 1. 5. 7.]\n",
      " [0. 3. 1. 8.]\n",
      " [3. 1. 9. 4.]\n",
      " [2. 1. 7. 4.]]\n"
     ]
    },
    {
     "data": {
      "text/plain": [
       "array([[3., 5.],\n",
       "       [3., 9.]])"
      ]
     },
     "execution_count": 8,
     "metadata": {},
     "output_type": "execute_result"
    }
   ],
   "source": [
    "out = pool.forward(np.concatenate((data,data),axis=2))\n",
    "np.round(out[:,:,0])"
   ]
  },
  {
   "cell_type": "code",
   "execution_count": 9,
   "metadata": {},
   "outputs": [
    {
     "name": "stdout",
     "output_type": "stream",
     "text": [
      "[[0. 0. 5. 0.]\n",
      " [0. 3. 0. 0.]\n",
      " [3. 0. 9. 0.]\n",
      " [0. 0. 0. 0.]]\n",
      "0,0 --> 1,1\n",
      "0,0 --> 1,1\n",
      "1,0 --> 2,0\n",
      "1,0 --> 2,0\n",
      "0,1 --> 0,2\n",
      "0,1 --> 0,2\n",
      "1,1 --> 2,2\n",
      "1,1 --> 2,2\n",
      "0,0 --> 1,0\n",
      "0,0 --> 1,0\n",
      "1,0 --> 3,1\n",
      "1,0 --> 3,1\n",
      "2,0 --> 5,1\n",
      "2,0 --> 5,1\n",
      "3,0 --> 6,0\n",
      "3,0 --> 6,0\n",
      "0,1 --> 0,3\n",
      "0,1 --> 0,3\n",
      "1,1 --> 2,2\n",
      "1,1 --> 2,2\n",
      "2,1 --> 4,3\n",
      "2,1 --> 4,3\n",
      "3,1 --> 6,2\n",
      "3,1 --> 6,2\n",
      "0,2 --> 1,5\n",
      "0,2 --> 1,5\n",
      "1,2 --> 2,5\n",
      "1,2 --> 2,5\n",
      "2,2 --> 5,5\n",
      "2,2 --> 5,5\n",
      "3,2 --> 6,4\n",
      "3,2 --> 6,4\n",
      "0,3 --> 1,6\n",
      "0,3 --> 1,6\n",
      "1,3 --> 2,6\n",
      "1,3 --> 2,6\n",
      "2,3 --> 4,6\n",
      "2,3 --> 4,6\n",
      "3,3 --> 6,6\n",
      "3,3 --> 6,6\n"
     ]
    },
    {
     "data": {
      "text/plain": [
       "array([[0., 0., 0., 0., 0., 0., 0., 0.],\n",
       "       [0., 0., 0., 0., 0., 5., 0., 0.],\n",
       "       [0., 0., 3., 0., 0., 0., 0., 0.],\n",
       "       [0., 0., 0., 0., 0., 0., 0., 0.],\n",
       "       [0., 0., 0., 0., 0., 0., 0., 0.],\n",
       "       [0., 3., 0., 0., 0., 9., 0., 0.],\n",
       "       [0., 0., 0., 0., 0., 0., 0., 0.],\n",
       "       [0., 0., 0., 0., 0., 0., 0., 0.]])"
      ]
     },
     "execution_count": 9,
     "metadata": {},
     "output_type": "execute_result"
    }
   ],
   "source": [
    "out2 = unpool.forward(out)\n",
    "np.round(out2[:,:,0])"
   ]
  },
  {
   "cell_type": "code",
   "execution_count": 10,
   "metadata": {},
   "outputs": [
    {
     "data": {
      "text/plain": [
       "array([[3., 5.],\n",
       "       [3., 9.]])"
      ]
     },
     "execution_count": 10,
     "metadata": {},
     "output_type": "execute_result"
    }
   ],
   "source": [
    "b1 = unpool.backward(out2)\n",
    "np.round(b1[:,:,0])"
   ]
  },
  {
   "cell_type": "code",
   "execution_count": 11,
   "metadata": {},
   "outputs": [
    {
     "data": {
      "text/plain": [
       "array([[0., 0., 0., 0., 0., 0., 0., 0.],\n",
       "       [0., 0., 0., 0., 0., 5., 0., 0.],\n",
       "       [0., 0., 3., 0., 0., 0., 0., 0.],\n",
       "       [0., 0., 0., 0., 0., 0., 0., 0.],\n",
       "       [0., 0., 0., 0., 0., 0., 0., 0.],\n",
       "       [0., 3., 0., 0., 0., 9., 0., 0.],\n",
       "       [0., 0., 0., 0., 0., 0., 0., 0.],\n",
       "       [0., 0., 0., 0., 0., 0., 0., 0.]])"
      ]
     },
     "execution_count": 11,
     "metadata": {},
     "output_type": "execute_result"
    }
   ],
   "source": [
    "b2 = pool.backward(b1)\n",
    "np.round(b2[:,:,0])"
   ]
  }
 ],
 "metadata": {
  "kernelspec": {
   "display_name": "Python 3",
   "language": "python",
   "name": "python3"
  },
  "language_info": {
   "codemirror_mode": {
    "name": "ipython",
    "version": 3
   },
   "file_extension": ".py",
   "mimetype": "text/x-python",
   "name": "python",
   "nbconvert_exporter": "python",
   "pygments_lexer": "ipython3",
   "version": "3.11.10"
  }
 },
 "nbformat": 4,
 "nbformat_minor": 2
}
