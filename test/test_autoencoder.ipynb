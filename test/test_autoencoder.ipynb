{
 "cells": [
  {
   "cell_type": "code",
   "execution_count": 7,
   "metadata": {},
   "outputs": [],
   "source": [
    "# Import C++ perceptron implementation\n",
    "import neuralnet as nn\n",
    "# Import other libraries\n",
    "import matplotlib.pyplot as plt\n",
    "import numpy as np\n",
    "import pickle\n",
    "import time\n",
    "np.random.seed(123)"
   ]
  },
  {
   "cell_type": "code",
   "execution_count": 8,
   "metadata": {},
   "outputs": [],
   "source": [
    "# Load training data\n",
    "TRAIN_IN, TRAIN_OUT = pickle.load(open('../data/mnist_preprocessed.pickle', 'rb'))\n",
    "N = 2\n",
    "a = 0.0001"
   ]
  },
  {
   "cell_type": "code",
   "execution_count": 9,
   "metadata": {},
   "outputs": [],
   "source": [
    "AdamArgs = (0.9, 0.999)"
   ]
  },
  {
   "cell_type": "code",
   "execution_count": 10,
   "metadata": {},
   "outputs": [
    {
     "name": "stdout",
     "output_type": "stream",
     "text": [
      "Creating autoencoder instance\n"
     ]
    }
   ],
   "source": [
    "layers = [nn.AutoEncoder(784, 50, *AdamArgs)]"
   ]
  },
  {
   "cell_type": "code",
   "execution_count": 11,
   "metadata": {},
   "outputs": [
    {
     "ename": "",
     "evalue": "",
     "output_type": "error",
     "traceback": [
      "\u001b[1;31mThe Kernel crashed while executing code in the current cell or a previous cell. \n",
      "\u001b[1;31mPlease review the code in the cell(s) to identify a possible cause of the failure. \n",
      "\u001b[1;31mClick <a href='https://aka.ms/vscodeJupyterKernelCrash'>here</a> for more info. \n",
      "\u001b[1;31mView Jupyter <a href='command:jupyter.viewOutput'>log</a> for further details."
     ]
    }
   ],
   "source": [
    "model = nn.Sequence(layers)\n",
    "time.sleep(5.0)"
   ]
  },
  {
   "cell_type": "code",
   "execution_count": 12,
   "metadata": {},
   "outputs": [],
   "source": [
    "ts = time.time()\n",
    "errors = nn.train(model, TRAIN_IN, TRAIN_IN, N, a)\n",
    "# errors = nn.fixed_encoder(TRAIN_IN, N, a)\n",
    "duration = time.time() - ts\n",
    "print(f\"Training of coupled autoencoder complete in {duration / N} seconds per epoch.\")\n",
    "\n",
    "plt.title(\"Training Error\")\n",
    "plt.plot(range(len(errors)), errors)\n",
    "plt.show()"
   ]
  }
 ],
 "metadata": {
  "kernelspec": {
   "display_name": "Python 3",
   "language": "python",
   "name": "python3"
  },
  "language_info": {
   "codemirror_mode": {
    "name": "ipython",
    "version": 3
   },
   "file_extension": ".py",
   "mimetype": "text/x-python",
   "name": "python",
   "nbconvert_exporter": "python",
   "pygments_lexer": "ipython3",
   "version": "3.11.1"
  },
  "orig_nbformat": 4,
  "vscode": {
   "interpreter": {
    "hash": "7acf0e7c55703b1d62125093779d76af3b1e04738383ec7b3594d323472f8b38"
   }
  }
 },
 "nbformat": 4,
 "nbformat_minor": 2
}
