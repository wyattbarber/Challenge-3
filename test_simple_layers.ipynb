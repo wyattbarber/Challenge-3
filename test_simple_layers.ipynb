{
 "cells": [
  {
   "cell_type": "code",
   "execution_count": 1,
   "metadata": {},
   "outputs": [],
   "source": [
    "# Import C++ perceptron implementation\n",
    "import neuralnet as nn\n",
    "# Import other libraries\n",
    "import matplotlib.pyplot as plt\n",
    "import numpy as np\n",
    "np.random.seed(123)"
   ]
  },
  {
   "cell_type": "code",
   "execution_count": 2,
   "metadata": {},
   "outputs": [],
   "source": [
    "# Load training data\n",
    "TRAIN_IN = np.genfromtxt('data/mnist_train.csv', delimiter=',', skip_header=1)[:,:10000]\n",
    "targets = np.genfromtxt('data/mnist_train_targets.csv', delimiter=',', skip_header=1, dtype=int)\n",
    "TRAIN_OUT = np.zeros((10, TRAIN_IN.shape[1]))\n",
    "\n",
    "for i in range(TRAIN_IN.shape[1]):\n",
    "    TRAIN_IN[:,i] /= 255\n",
    "    TRAIN_OUT[targets[i], i] = 1"
   ]
  },
  {
   "cell_type": "code",
   "execution_count": 3,
   "metadata": {},
   "outputs": [],
   "source": [
    "model = nn.Sequence([nn.TanH(TRAIN_IN.shape[0], 500), nn.ReLU(500, 300), nn.ReLU(300, 100), nn.ReLU(100, 100), nn.ReLU(100, 50), nn.SoftMax(50, 10)])\n"
   ]
  },
  {
   "cell_type": "code",
   "execution_count": 4,
   "metadata": {},
   "outputs": [
    {
     "ename": "",
     "evalue": "",
     "output_type": "error",
     "traceback": [
      "\u001b[1;31mThe Kernel crashed while executing code in the current cell or a previous cell. \n",
      "\u001b[1;31mPlease review the code in the cell(s) to identify a possible cause of the failure. \n",
      "\u001b[1;31mClick <a href='https://aka.ms/vscodeJupyterKernelCrash'>here</a> for more info. \n",
      "\u001b[1;31mView Jupyter <a href='command:jupyter.viewOutput'>log</a> for further details."
     ]
    }
   ],
   "source": [
    "errors = model.train(TRAIN_IN, TRAIN_OUT, 0.00001, 10, 0.8, 0.8)\n",
    "\n",
    "plt.title(\"Training Error\")\n",
    "plt.plot(range(len(errors)), errors)\n",
    "plt.show()"
   ]
  }
 ],
 "metadata": {
  "kernelspec": {
   "display_name": "Python 3",
   "language": "python",
   "name": "python3"
  },
  "language_info": {
   "codemirror_mode": {
    "name": "ipython",
    "version": 3
   },
   "file_extension": ".py",
   "mimetype": "text/x-python",
   "name": "python",
   "nbconvert_exporter": "python",
   "pygments_lexer": "ipython3",
   "version": "3.11.1"
  },
  "orig_nbformat": 4,
  "vscode": {
   "interpreter": {
    "hash": "7acf0e7c55703b1d62125093779d76af3b1e04738383ec7b3594d323472f8b38"
   }
  }
 },
 "nbformat": 4,
 "nbformat_minor": 2
}
